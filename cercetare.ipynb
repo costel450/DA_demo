{
 "cells": [
  {
   "cell_type": "code",
   "execution_count": null,
   "metadata": {},
   "outputs": [],
   "source": []
  }
 ],
 "metadata": {
  "kernelspec": {
   "display_name": "Python 3.9.13 ('tensorflow')",
   "language": "python",
   "name": "python3"
  },
  "language_info": {
   "name": "python",
   "version": "3.9.13"
  },
  "orig_nbformat": 4,
  "vscode": {
   "interpreter": {
    "hash": "360c955d4a0368fa3d0f1048a2f08e68d0d552f113e688ac66d9e29116f51d03"
   }
  }
 },
 "nbformat": 4,
 "nbformat_minor": 2
}
